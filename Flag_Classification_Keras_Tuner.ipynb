{
  "cells": [
    {
      "cell_type": "markdown",
      "metadata": {
        "id": "5M4GvQ7a38R_"
      },
      "source": [
        "## Detection of Country Flag from images"
      ]
    },
    {
      "cell_type": "code",
      "execution_count": null,
      "metadata": {
        "id": "2Z5-mjoP38SE"
      },
      "outputs": [],
      "source": [
        "import tensorflow as tf\n",
        "from tensorflow.keras.models import Sequential\n",
        "from tensorflow.keras.layers import Activation, Dropout, Flatten, Dense,Conv2D,MaxPooling2D\n",
        "\n",
        "from tensorflow.keras.preprocessing.image import ImageDataGenerator\n",
        "\n",
        "from keras.applications.vgg19 import VGG19\n",
        "from keras.applications.vgg16 import VGG16\n",
        "\n",
        "from keras.constraints import maxnorm\n",
        "\n",
        "import tensorflow.keras as keras\n",
        "import numpy as np\n",
        "from tensorflow.keras.preprocessing import image\n",
        "\n"
      ]
    },
    {
      "cell_type": "code",
      "execution_count": null,
      "metadata": {
        "colab": {
          "base_uri": "https://localhost:8080/"
        },
        "id": "Iv1BDMKQ4cZF",
        "outputId": "04b169e4-53a6-411d-c51e-d7b9c0363707"
      },
      "outputs": [
        {
          "name": "stdout",
          "output_type": "stream",
          "text": [
            "Collecting keras-tuner\n",
            "  Downloading keras_tuner-1.1.0-py3-none-any.whl (98 kB)\n",
            "\u001b[?25l\r\u001b[K     |███▍                            | 10 kB 23.5 MB/s eta 0:00:01\r\u001b[K     |██████▊                         | 20 kB 11.6 MB/s eta 0:00:01\r\u001b[K     |██████████                      | 30 kB 6.7 MB/s eta 0:00:01\r\u001b[K     |█████████████▍                  | 40 kB 3.4 MB/s eta 0:00:01\r\u001b[K     |████████████████▊               | 51 kB 3.9 MB/s eta 0:00:01\r\u001b[K     |████████████████████            | 61 kB 4.2 MB/s eta 0:00:01\r\u001b[K     |███████████████████████▍        | 71 kB 4.2 MB/s eta 0:00:01\r\u001b[K     |██████████████████████████▊     | 81 kB 4.7 MB/s eta 0:00:01\r\u001b[K     |██████████████████████████████  | 92 kB 4.8 MB/s eta 0:00:01\r\u001b[K     |████████████████████████████████| 98 kB 3.1 MB/s \n",
            "\u001b[?25hRequirement already satisfied: ipython in /usr/local/lib/python3.7/dist-packages (from keras-tuner) (5.5.0)\n",
            "Collecting kt-legacy\n",
            "  Downloading kt_legacy-1.0.4-py3-none-any.whl (9.6 kB)\n",
            "Requirement already satisfied: requests in /usr/local/lib/python3.7/dist-packages (from keras-tuner) (2.23.0)\n",
            "Requirement already satisfied: numpy in /usr/local/lib/python3.7/dist-packages (from keras-tuner) (1.19.5)\n",
            "Requirement already satisfied: packaging in /usr/local/lib/python3.7/dist-packages (from keras-tuner) (21.3)\n",
            "Requirement already satisfied: scipy in /usr/local/lib/python3.7/dist-packages (from keras-tuner) (1.4.1)\n",
            "Requirement already satisfied: tensorboard in /usr/local/lib/python3.7/dist-packages (from keras-tuner) (2.7.0)\n",
            "Requirement already satisfied: decorator in /usr/local/lib/python3.7/dist-packages (from ipython->keras-tuner) (4.4.2)\n",
            "Requirement already satisfied: setuptools>=18.5 in /usr/local/lib/python3.7/dist-packages (from ipython->keras-tuner) (57.4.0)\n",
            "Requirement already satisfied: simplegeneric>0.8 in /usr/local/lib/python3.7/dist-packages (from ipython->keras-tuner) (0.8.1)\n",
            "Requirement already satisfied: pexpect in /usr/local/lib/python3.7/dist-packages (from ipython->keras-tuner) (4.8.0)\n",
            "Requirement already satisfied: prompt-toolkit<2.0.0,>=1.0.4 in /usr/local/lib/python3.7/dist-packages (from ipython->keras-tuner) (1.0.18)\n",
            "Requirement already satisfied: pygments in /usr/local/lib/python3.7/dist-packages (from ipython->keras-tuner) (2.6.1)\n",
            "Requirement already satisfied: traitlets>=4.2 in /usr/local/lib/python3.7/dist-packages (from ipython->keras-tuner) (5.1.1)\n",
            "Requirement already satisfied: pickleshare in /usr/local/lib/python3.7/dist-packages (from ipython->keras-tuner) (0.7.5)\n",
            "Requirement already satisfied: six>=1.9.0 in /usr/local/lib/python3.7/dist-packages (from prompt-toolkit<2.0.0,>=1.0.4->ipython->keras-tuner) (1.15.0)\n",
            "Requirement already satisfied: wcwidth in /usr/local/lib/python3.7/dist-packages (from prompt-toolkit<2.0.0,>=1.0.4->ipython->keras-tuner) (0.2.5)\n",
            "Requirement already satisfied: pyparsing!=3.0.5,>=2.0.2 in /usr/local/lib/python3.7/dist-packages (from packaging->keras-tuner) (3.0.7)\n",
            "Requirement already satisfied: ptyprocess>=0.5 in /usr/local/lib/python3.7/dist-packages (from pexpect->ipython->keras-tuner) (0.7.0)\n",
            "Requirement already satisfied: certifi>=2017.4.17 in /usr/local/lib/python3.7/dist-packages (from requests->keras-tuner) (2021.10.8)\n",
            "Requirement already satisfied: chardet<4,>=3.0.2 in /usr/local/lib/python3.7/dist-packages (from requests->keras-tuner) (3.0.4)\n",
            "Requirement already satisfied: urllib3!=1.25.0,!=1.25.1,<1.26,>=1.21.1 in /usr/local/lib/python3.7/dist-packages (from requests->keras-tuner) (1.24.3)\n",
            "Requirement already satisfied: idna<3,>=2.5 in /usr/local/lib/python3.7/dist-packages (from requests->keras-tuner) (2.10)\n",
            "Requirement already satisfied: google-auth<3,>=1.6.3 in /usr/local/lib/python3.7/dist-packages (from tensorboard->keras-tuner) (1.35.0)\n",
            "Requirement already satisfied: google-auth-oauthlib<0.5,>=0.4.1 in /usr/local/lib/python3.7/dist-packages (from tensorboard->keras-tuner) (0.4.6)\n",
            "Requirement already satisfied: protobuf>=3.6.0 in /usr/local/lib/python3.7/dist-packages (from tensorboard->keras-tuner) (3.17.3)\n",
            "Requirement already satisfied: wheel>=0.26 in /usr/local/lib/python3.7/dist-packages (from tensorboard->keras-tuner) (0.37.1)\n",
            "Requirement already satisfied: absl-py>=0.4 in /usr/local/lib/python3.7/dist-packages (from tensorboard->keras-tuner) (1.0.0)\n",
            "Requirement already satisfied: grpcio>=1.24.3 in /usr/local/lib/python3.7/dist-packages (from tensorboard->keras-tuner) (1.43.0)\n",
            "Requirement already satisfied: tensorboard-data-server<0.7.0,>=0.6.0 in /usr/local/lib/python3.7/dist-packages (from tensorboard->keras-tuner) (0.6.1)\n",
            "Requirement already satisfied: tensorboard-plugin-wit>=1.6.0 in /usr/local/lib/python3.7/dist-packages (from tensorboard->keras-tuner) (1.8.1)\n",
            "Requirement already satisfied: werkzeug>=0.11.15 in /usr/local/lib/python3.7/dist-packages (from tensorboard->keras-tuner) (1.0.1)\n",
            "Requirement already satisfied: markdown>=2.6.8 in /usr/local/lib/python3.7/dist-packages (from tensorboard->keras-tuner) (3.3.6)\n",
            "Requirement already satisfied: rsa<5,>=3.1.4 in /usr/local/lib/python3.7/dist-packages (from google-auth<3,>=1.6.3->tensorboard->keras-tuner) (4.8)\n",
            "Requirement already satisfied: pyasn1-modules>=0.2.1 in /usr/local/lib/python3.7/dist-packages (from google-auth<3,>=1.6.3->tensorboard->keras-tuner) (0.2.8)\n",
            "Requirement already satisfied: cachetools<5.0,>=2.0.0 in /usr/local/lib/python3.7/dist-packages (from google-auth<3,>=1.6.3->tensorboard->keras-tuner) (4.2.4)\n",
            "Requirement already satisfied: requests-oauthlib>=0.7.0 in /usr/local/lib/python3.7/dist-packages (from google-auth-oauthlib<0.5,>=0.4.1->tensorboard->keras-tuner) (1.3.0)\n",
            "Requirement already satisfied: importlib-metadata>=4.4 in /usr/local/lib/python3.7/dist-packages (from markdown>=2.6.8->tensorboard->keras-tuner) (4.10.1)\n",
            "Requirement already satisfied: typing-extensions>=3.6.4 in /usr/local/lib/python3.7/dist-packages (from importlib-metadata>=4.4->markdown>=2.6.8->tensorboard->keras-tuner) (3.10.0.2)\n",
            "Requirement already satisfied: zipp>=0.5 in /usr/local/lib/python3.7/dist-packages (from importlib-metadata>=4.4->markdown>=2.6.8->tensorboard->keras-tuner) (3.7.0)\n",
            "Requirement already satisfied: pyasn1<0.5.0,>=0.4.6 in /usr/local/lib/python3.7/dist-packages (from pyasn1-modules>=0.2.1->google-auth<3,>=1.6.3->tensorboard->keras-tuner) (0.4.8)\n",
            "Requirement already satisfied: oauthlib>=3.0.0 in /usr/local/lib/python3.7/dist-packages (from requests-oauthlib>=0.7.0->google-auth-oauthlib<0.5,>=0.4.1->tensorboard->keras-tuner) (3.1.1)\n",
            "Installing collected packages: kt-legacy, keras-tuner\n",
            "Successfully installed keras-tuner-1.1.0 kt-legacy-1.0.4\n"
          ]
        }
      ],
      "source": [
        "pip install keras-tuner --upgrade"
      ]
    },
    {
      "cell_type": "code",
      "execution_count": null,
      "metadata": {
        "id": "2vfnewFN5PY0"
      },
      "outputs": [],
      "source": [
        "import keras_tuner as kt"
      ]
    },
    {
      "cell_type": "code",
      "execution_count": null,
      "metadata": {
        "colab": {
          "base_uri": "https://localhost:8080/"
        },
        "id": "lQAcBrem696_",
        "outputId": "866b1b4d-0785-4322-dc12-9c322a90237a"
      },
      "outputs": [
        {
          "name": "stdout",
          "output_type": "stream",
          "text": [
            "Mounted at /content/drive\n"
          ]
        }
      ],
      "source": [
        "from google.colab import drive\n",
        "drive.mount('/content/drive')"
      ]
    },
    {
      "cell_type": "code",
      "execution_count": null,
      "metadata": {
        "colab": {
          "base_uri": "https://localhost:8080/",
          "height": 35
        },
        "id": "x6Gqd6iS6Zov",
        "outputId": "5ec0d46a-cd10-4a37-b48a-8f0bb5257d48"
      },
      "outputs": [
        {
          "data": {
            "application/vnd.google.colaboratory.intrinsic+json": {
              "type": "string"
            },
            "text/plain": [
              "'/content/drive/My Drive'"
            ]
          },
          "execution_count": 6,
          "metadata": {},
          "output_type": "execute_result"
        }
      ],
      "source": [
        "import os\n",
        "#os.getcwd()\n",
        "os.chdir('/content/drive/My Drive')\n",
        "os.getcwd()"
      ]
    },
    {
      "cell_type": "code",
      "execution_count": null,
      "metadata": {
        "id": "mgnBEqkqXNG7"
      },
      "outputs": [],
      "source": [
        "# Define the search space\n",
        "def create_model(hp):\n",
        "  inputs = keras.Input(shape=(224,224,3))\n",
        "  x = inputs\n",
        "  model = Sequential()\n",
        "  \n",
        "  for i in range(hp.Int(\"cnn layers\",1,4)):\n",
        "    model.add(Conv2D(\n",
        "        hp.Int(f\"filters_{i}\", 32, 128, step=32),\n",
        "        kernel_size=hp.Int(\"kernel_size_\" + str(i), 3, 5),\n",
        "        activation='relu'\n",
        "    ))\n",
        "    model.add(MaxPooling2D(pool_size=(2,2)))\n",
        "  # check if dropout layer is needed\n",
        "  if hp.Boolean(\"dropout\"):\n",
        "    model.add(Dropout(0.25))\n",
        "  \n",
        "  model.add(Flatten())\n",
        "\n",
        "  for j in range(hp.Int(\"dense layers\",1,4)):\n",
        "     model.add(Dense(units=hp.Int(f\"dense layer_{j}\", min_value=32, max_value=128, step=16), activation='relu'))\n",
        "     \n",
        "  model.add(Dense(units=10, activation='softmax'))\n",
        "\n",
        "  model.compile(optimizer='adam',\n",
        "                loss='categorical_crossentropy',\n",
        "                metrics=['accuracy'])\n",
        "  return model"
      ]
    },
    {
      "cell_type": "code",
      "execution_count": null,
      "metadata": {
        "id": "0AqCVgjBtnd7"
      },
      "outputs": [],
      "source": [
        "from keras_tuner import RandomSearch\n",
        "from keras_tuner.engine.hyperparameters import HyperParameters"
      ]
    },
    {
      "cell_type": "code",
      "execution_count": null,
      "metadata": {
        "id": "ACa-6QVMY7GY"
      },
      "outputs": [],
      "source": [
        "model=create_model(kt.HyperParameters())"
      ]
    },
    {
      "cell_type": "code",
      "execution_count": null,
      "metadata": {
        "id": "KUKTBQc0upnb"
      },
      "outputs": [],
      "source": [
        "tuner_search = RandomSearch(hypermodel=create_model,objective='val_accuracy',max_trials=8,overwrite=True,directory='Kerasout', project_name=\"Flags\")"
      ]
    },
    {
      "cell_type": "code",
      "execution_count": null,
      "metadata": {
        "id": "HSRd5OTo38SO"
      },
      "outputs": [],
      "source": [
        "## data importing  scaling, creating additional images using shear, zoom, and flip\n",
        "\n",
        "train_datagen = ImageDataGenerator(rescale=1./255, shear_range=0.2, zoom_range=0.2, horizontal_flip=True, rotation_range=30, validation_split=0.2, vertical_flip=True)"
      ]
    },
    {
      "cell_type": "code",
      "execution_count": null,
      "metadata": {
        "colab": {
          "base_uri": "https://localhost:8080/"
        },
        "id": "h2JvIcd138SP",
        "outputId": "9c765cf2-0f5d-4771-c304-e97c9c1fbe35"
      },
      "outputs": [
        {
          "name": "stdout",
          "output_type": "stream",
          "text": [
            "Found 1792 images belonging to 10 classes.\n"
          ]
        }
      ],
      "source": [
        "## Importing training data\n",
        "train_set = train_datagen.flow_from_directory('Flags/',target_size=(224, 224),class_mode='categorical', subset='training')"
      ]
    },
    {
      "cell_type": "code",
      "execution_count": null,
      "metadata": {
        "colab": {
          "base_uri": "https://localhost:8080/"
        },
        "id": "Hg7a4e4R38SP",
        "outputId": "58d19f16-e2ec-43fe-ad27-74d8403138c0"
      },
      "outputs": [
        {
          "data": {
            "text/plain": [
              "{'Canada': 0,\n",
              " 'France': 1,\n",
              " 'Germany': 2,\n",
              " 'India': 3,\n",
              " 'Italy': 4,\n",
              " 'Russia': 5,\n",
              " 'Spain': 6,\n",
              " 'Switzerland': 7,\n",
              " 'UK': 8,\n",
              " 'USA': 9}"
            ]
          },
          "execution_count": 13,
          "metadata": {},
          "output_type": "execute_result"
        }
      ],
      "source": [
        "train_set.class_indices  # identify the classes "
      ]
    },
    {
      "cell_type": "code",
      "execution_count": null,
      "metadata": {
        "id": "UwyzhY5H7LAn"
      },
      "outputs": [],
      "source": [
        "labels = ['Canada', 'France', 'Germany', 'India', 'Italy', 'Russia','Spain', 'Switzerland', 'UK', 'USA']"
      ]
    },
    {
      "cell_type": "code",
      "execution_count": null,
      "metadata": {
        "colab": {
          "base_uri": "https://localhost:8080/"
        },
        "id": "VSmGMvsN38SQ",
        "outputId": "b504c36a-edde-44f3-cb13-f259e9364afa"
      },
      "outputs": [
        {
          "name": "stdout",
          "output_type": "stream",
          "text": [
            "Found 445 images belonging to 10 classes.\n"
          ]
        }
      ],
      "source": [
        "## Importng test data\n",
        "test_set = train_datagen.flow_from_directory('Flags/',target_size=(224, 224),class_mode='categorical',subset='validation')"
      ]
    },
    {
      "cell_type": "code",
      "execution_count": null,
      "metadata": {
        "colab": {
          "base_uri": "https://localhost:8080/"
        },
        "id": "ubURVyNhwRNf",
        "outputId": "a6636489-c024-4e16-d4cb-7ad90f57be99"
      },
      "outputs": [
        {
          "name": "stdout",
          "output_type": "stream",
          "text": [
            "Trial 8 Complete [00h 08m 29s]\n",
            "val_accuracy: 0.6966292262077332\n",
            "\n",
            "Best val_accuracy So Far: 0.71685391664505\n",
            "Total elapsed time: 01h 25m 07s\n",
            "INFO:tensorflow:Oracle triggered exit\n"
          ]
        }
      ],
      "source": [
        "tuner_search.search(train_set,epochs=10,validation_data=test_set)"
      ]
    },
    {
      "cell_type": "code",
      "execution_count": null,
      "metadata": {
        "colab": {
          "base_uri": "https://localhost:8080/"
        },
        "id": "QtXcPpbqzxnN",
        "outputId": "c4313737-d586-41c0-9391-eab6f34bec89"
      },
      "outputs": [
        {
          "name": "stdout",
          "output_type": "stream",
          "text": [
            "Results summary\n",
            "Results in Kerasout/Flags\n",
            "Showing 10 best trials\n",
            "Objective(name='val_accuracy', direction='max')\n",
            "Trial summary\n",
            "Hyperparameters:\n",
            "cnn layers: 3\n",
            "filters_0: 32\n",
            "kernel_size_0: 4\n",
            "dropout: True\n",
            "dense layers: 1\n",
            "dense layer_0: 80\n",
            "dense layer_1: 80\n",
            "dense layer_2: 64\n",
            "dense layer_3: 128\n",
            "filters_1: 32\n",
            "kernel_size_1: 3\n",
            "filters_2: 32\n",
            "kernel_size_2: 3\n",
            "Score: 0.71685391664505\n",
            "Trial summary\n",
            "Hyperparameters:\n",
            "cnn layers: 1\n",
            "filters_0: 64\n",
            "kernel_size_0: 3\n",
            "dropout: False\n",
            "dense layers: 1\n",
            "dense layer_0: 112\n",
            "dense layer_1: 112\n",
            "dense layer_2: 128\n",
            "dense layer_3: 64\n",
            "filters_1: 128\n",
            "kernel_size_1: 4\n",
            "filters_2: 96\n",
            "kernel_size_2: 5\n",
            "Score: 0.7011235952377319\n",
            "Trial summary\n",
            "Hyperparameters:\n",
            "cnn layers: 4\n",
            "filters_0: 96\n",
            "kernel_size_0: 3\n",
            "dropout: False\n",
            "dense layers: 2\n",
            "dense layer_0: 32\n",
            "dense layer_1: 128\n",
            "dense layer_2: 48\n",
            "dense layer_3: 32\n",
            "filters_1: 64\n",
            "kernel_size_1: 3\n",
            "filters_2: 64\n",
            "kernel_size_2: 4\n",
            "filters_3: 32\n",
            "kernel_size_3: 3\n",
            "Score: 0.6988763809204102\n",
            "Trial summary\n",
            "Hyperparameters:\n",
            "cnn layers: 3\n",
            "filters_0: 96\n",
            "kernel_size_0: 5\n",
            "dropout: True\n",
            "dense layers: 4\n",
            "dense layer_0: 112\n",
            "dense layer_1: 128\n",
            "dense layer_2: 48\n",
            "dense layer_3: 32\n",
            "filters_1: 128\n",
            "kernel_size_1: 4\n",
            "filters_2: 64\n",
            "kernel_size_2: 4\n",
            "filters_3: 96\n",
            "kernel_size_3: 5\n",
            "Score: 0.6966292262077332\n",
            "Trial summary\n",
            "Hyperparameters:\n",
            "cnn layers: 3\n",
            "filters_0: 96\n",
            "kernel_size_0: 5\n",
            "dropout: True\n",
            "dense layers: 3\n",
            "dense layer_0: 112\n",
            "dense layer_1: 80\n",
            "dense layer_2: 32\n",
            "dense layer_3: 48\n",
            "filters_1: 64\n",
            "kernel_size_1: 4\n",
            "filters_2: 64\n",
            "kernel_size_2: 3\n",
            "Score: 0.683146059513092\n",
            "Trial summary\n",
            "Hyperparameters:\n",
            "cnn layers: 3\n",
            "filters_0: 128\n",
            "kernel_size_0: 4\n",
            "dropout: True\n",
            "dense layers: 2\n",
            "dense layer_0: 48\n",
            "dense layer_1: 64\n",
            "dense layer_2: 64\n",
            "dense layer_3: 64\n",
            "filters_1: 128\n",
            "kernel_size_1: 4\n",
            "filters_2: 128\n",
            "kernel_size_2: 5\n",
            "Score: 0.6719101071357727\n",
            "Trial summary\n",
            "Hyperparameters:\n",
            "cnn layers: 1\n",
            "filters_0: 32\n",
            "kernel_size_0: 4\n",
            "dropout: True\n",
            "dense layers: 4\n",
            "dense layer_0: 96\n",
            "dense layer_1: 32\n",
            "dense layer_2: 32\n",
            "dense layer_3: 32\n",
            "Score: 0.6561797857284546\n",
            "Trial summary\n",
            "Hyperparameters:\n",
            "cnn layers: 1\n",
            "filters_0: 32\n",
            "kernel_size_0: 4\n",
            "dropout: False\n",
            "dense layers: 3\n",
            "dense layer_0: 96\n",
            "dense layer_1: 48\n",
            "dense layer_2: 96\n",
            "dense layer_3: 32\n",
            "filters_1: 64\n",
            "kernel_size_1: 4\n",
            "filters_2: 32\n",
            "kernel_size_2: 3\n",
            "Score: 0.6561797857284546\n"
          ]
        }
      ],
      "source": [
        "tuner_search.results_summary()"
      ]
    },
    {
      "cell_type": "code",
      "execution_count": null,
      "metadata": {
        "id": "i3L9L-Sf0Y6T"
      },
      "outputs": [],
      "source": [
        "models = tuner_search.get_best_models(num_models=2)\n",
        "best_model = models[0]"
      ]
    },
    {
      "cell_type": "code",
      "execution_count": null,
      "metadata": {
        "colab": {
          "base_uri": "https://localhost:8080/"
        },
        "id": "7_p_1E3SsgTc",
        "outputId": "156781a6-743a-4363-ae6c-42bbe755ea2d"
      },
      "outputs": [
        {
          "output_type": "stream",
          "name": "stdout",
          "text": [
            "Epoch 1/30\n",
            "56/56 [==============================] - 52s 936ms/step - loss: 0.2678 - accuracy: 0.9118 - val_loss: 0.9091 - val_accuracy: 0.8000\n",
            "Epoch 2/30\n",
            "56/56 [==============================] - 44s 792ms/step - loss: 0.2604 - accuracy: 0.9146 - val_loss: 0.9851 - val_accuracy: 0.8067\n",
            "Epoch 3/30\n",
            "56/56 [==============================] - 43s 772ms/step - loss: 0.2432 - accuracy: 0.9275 - val_loss: 0.9381 - val_accuracy: 0.7910\n",
            "Epoch 4/30\n",
            "56/56 [==============================] - 43s 775ms/step - loss: 0.2801 - accuracy: 0.9146 - val_loss: 1.1441 - val_accuracy: 0.7843\n",
            "Epoch 5/30\n",
            "56/56 [==============================] - 43s 772ms/step - loss: 0.2903 - accuracy: 0.9074 - val_loss: 0.8446 - val_accuracy: 0.8067\n",
            "Epoch 6/30\n",
            "56/56 [==============================] - 43s 772ms/step - loss: 0.2393 - accuracy: 0.9157 - val_loss: 0.9585 - val_accuracy: 0.8067\n",
            "Epoch 7/30\n",
            "56/56 [==============================] - 43s 770ms/step - loss: 0.2485 - accuracy: 0.9202 - val_loss: 0.9756 - val_accuracy: 0.8135\n",
            "Epoch 8/30\n",
            "56/56 [==============================] - 43s 773ms/step - loss: 0.2744 - accuracy: 0.9118 - val_loss: 1.0454 - val_accuracy: 0.7978\n",
            "Epoch 9/30\n",
            "56/56 [==============================] - 46s 829ms/step - loss: 0.2455 - accuracy: 0.9235 - val_loss: 0.9685 - val_accuracy: 0.8067\n",
            "Epoch 10/30\n",
            "56/56 [==============================] - 44s 783ms/step - loss: 0.2632 - accuracy: 0.9107 - val_loss: 0.9499 - val_accuracy: 0.8000\n",
            "Epoch 11/30\n",
            "56/56 [==============================] - 43s 774ms/step - loss: 0.2140 - accuracy: 0.9314 - val_loss: 0.9441 - val_accuracy: 0.7955\n",
            "Epoch 12/30\n",
            "56/56 [==============================] - 43s 776ms/step - loss: 0.1982 - accuracy: 0.9302 - val_loss: 0.9687 - val_accuracy: 0.8157\n",
            "Epoch 13/30\n",
            "56/56 [==============================] - 43s 777ms/step - loss: 0.1838 - accuracy: 0.9375 - val_loss: 0.9865 - val_accuracy: 0.8315\n",
            "Epoch 14/30\n",
            "56/56 [==============================] - 43s 772ms/step - loss: 0.2148 - accuracy: 0.9358 - val_loss: 1.0671 - val_accuracy: 0.7955\n",
            "Epoch 15/30\n",
            "56/56 [==============================] - 43s 776ms/step - loss: 0.2231 - accuracy: 0.9302 - val_loss: 0.9342 - val_accuracy: 0.8090\n",
            "Epoch 16/30\n",
            "56/56 [==============================] - 43s 775ms/step - loss: 0.1782 - accuracy: 0.9414 - val_loss: 0.9031 - val_accuracy: 0.8225\n",
            "Epoch 17/30\n",
            "56/56 [==============================] - 43s 777ms/step - loss: 0.1946 - accuracy: 0.9381 - val_loss: 1.0616 - val_accuracy: 0.8180\n",
            "Epoch 18/30\n",
            "56/56 [==============================] - 43s 775ms/step - loss: 0.2149 - accuracy: 0.9263 - val_loss: 1.1088 - val_accuracy: 0.7933\n",
            "Epoch 19/30\n",
            "56/56 [==============================] - 51s 908ms/step - loss: 0.2458 - accuracy: 0.9286 - val_loss: 0.9462 - val_accuracy: 0.8000\n",
            "Epoch 20/30\n",
            "56/56 [==============================] - 43s 766ms/step - loss: 0.1988 - accuracy: 0.9347 - val_loss: 1.0011 - val_accuracy: 0.8247\n",
            "Epoch 21/30\n",
            "56/56 [==============================] - 43s 766ms/step - loss: 0.1842 - accuracy: 0.9425 - val_loss: 1.0300 - val_accuracy: 0.8067\n",
            "Epoch 22/30\n",
            "56/56 [==============================] - 43s 771ms/step - loss: 0.1758 - accuracy: 0.9386 - val_loss: 1.0925 - val_accuracy: 0.7955\n",
            "Epoch 23/30\n",
            "56/56 [==============================] - 43s 770ms/step - loss: 0.1719 - accuracy: 0.9436 - val_loss: 1.0038 - val_accuracy: 0.8067\n",
            "Epoch 24/30\n",
            "56/56 [==============================] - 43s 763ms/step - loss: 0.1705 - accuracy: 0.9503 - val_loss: 1.0204 - val_accuracy: 0.8202\n",
            "Epoch 25/30\n",
            "56/56 [==============================] - 43s 770ms/step - loss: 0.1752 - accuracy: 0.9420 - val_loss: 1.0334 - val_accuracy: 0.8022\n",
            "Epoch 26/30\n",
            "56/56 [==============================] - 43s 776ms/step - loss: 0.1615 - accuracy: 0.9492 - val_loss: 1.0142 - val_accuracy: 0.8292\n",
            "Epoch 27/30\n",
            "56/56 [==============================] - 43s 769ms/step - loss: 0.1609 - accuracy: 0.9498 - val_loss: 0.9319 - val_accuracy: 0.8360\n",
            "Epoch 28/30\n",
            "56/56 [==============================] - 43s 773ms/step - loss: 0.1373 - accuracy: 0.9581 - val_loss: 1.0540 - val_accuracy: 0.8449\n",
            "Epoch 29/30\n",
            "56/56 [==============================] - 44s 778ms/step - loss: 0.1495 - accuracy: 0.9531 - val_loss: 1.1113 - val_accuracy: 0.8067\n",
            "Epoch 30/30\n",
            "56/56 [==============================] - 44s 791ms/step - loss: 0.1510 - accuracy: 0.9436 - val_loss: 0.9823 - val_accuracy: 0.8472\n"
          ]
        },
        {
          "output_type": "execute_result",
          "data": {
            "text/plain": [
              "<keras.callbacks.History at 0x7f771f697890>"
            ]
          },
          "metadata": {},
          "execution_count": 20
        }
      ],
      "source": [
        "# Retrain the best model\n",
        "chkp_filepath = '/tmp/checkpoint'\n",
        "model_checkpoint_callback = keras.callbacks.ModelCheckpoint(\n",
        "    filepath=chkp_filepath,\n",
        "    save_weights_only=True,\n",
        "    monitor='val_accuracy',\n",
        "    mode='max',\n",
        "    save_best_only=True\n",
        ")\n",
        "best_model.fit(train_set,epochs=30,validation_data=test_set, callbacks=[model_checkpoint_callback])"
      ]
    },
    {
      "cell_type": "code",
      "source": [
        "best_model.load_weights(chkp_filepath)"
      ],
      "metadata": {
        "colab": {
          "base_uri": "https://localhost:8080/"
        },
        "id": "Qiw7C6Ssc6TY",
        "outputId": "b1ca4cd4-bf92-4b1b-9e22-a97f6bd49b81"
      },
      "execution_count": null,
      "outputs": [
        {
          "output_type": "execute_result",
          "data": {
            "text/plain": [
              "<tensorflow.python.training.tracking.util.CheckpointLoadStatus at 0x7f771db3ac10>"
            ]
          },
          "metadata": {},
          "execution_count": 21
        }
      ]
    },
    {
      "cell_type": "code",
      "execution_count": null,
      "metadata": {
        "colab": {
          "base_uri": "https://localhost:8080/"
        },
        "id": "HEX_EZMusOTT",
        "outputId": "6bccd41c-e478-4f57-93ba-99b8646c77f2"
      },
      "outputs": [
        {
          "output_type": "stream",
          "name": "stdout",
          "text": [
            "Model: \"sequential\"\n",
            "_________________________________________________________________\n",
            " Layer (type)                Output Shape              Param #   \n",
            "=================================================================\n",
            " conv2d (Conv2D)             (None, None, None, 32)    1568      \n",
            "                                                                 \n",
            " max_pooling2d (MaxPooling2D  (None, None, None, 32)   0         \n",
            " )                                                               \n",
            "                                                                 \n",
            " conv2d_1 (Conv2D)           (None, None, None, 32)    9248      \n",
            "                                                                 \n",
            " max_pooling2d_1 (MaxPooling  (None, None, None, 32)   0         \n",
            " 2D)                                                             \n",
            "                                                                 \n",
            " conv2d_2 (Conv2D)           (None, None, None, 32)    9248      \n",
            "                                                                 \n",
            " max_pooling2d_2 (MaxPooling  (None, None, None, 32)   0         \n",
            " 2D)                                                             \n",
            "                                                                 \n",
            " dropout (Dropout)           (None, None, None, 32)    0         \n",
            "                                                                 \n",
            " flatten (Flatten)           (None, None)              0         \n",
            "                                                                 \n",
            " dense (Dense)               (None, 80)                1730640   \n",
            "                                                                 \n",
            " dense_1 (Dense)             (None, 10)                810       \n",
            "                                                                 \n",
            "=================================================================\n",
            "Total params: 1,751,514\n",
            "Trainable params: 1,751,514\n",
            "Non-trainable params: 0\n",
            "_________________________________________________________________\n"
          ]
        }
      ],
      "source": [
        "best_model.summary()"
      ]
    },
    {
      "cell_type": "code",
      "execution_count": null,
      "metadata": {
        "id": "cmTBSJpyDN6W"
      },
      "outputs": [],
      "source": [
        "best_model.save('Flagsp.h5')"
      ]
    },
    {
      "cell_type": "code",
      "execution_count": null,
      "metadata": {
        "id": "Pik8B-u538SR"
      },
      "outputs": [],
      "source": [
        "## prediction of single new data\n",
        "\n",
        "test_image= image.load_img('Test Flags/USA2.jpg',target_size=(224,224))\n"
      ]
    },
    {
      "cell_type": "code",
      "execution_count": null,
      "metadata": {
        "colab": {
          "base_uri": "https://localhost:8080/",
          "height": 241
        },
        "id": "CcdRsLVN38SR",
        "outputId": "ad2decd8-e1ad-473c-8f87-e417c036a1cd"
      },
      "outputs": [
        {
          "output_type": "execute_result",
          "data": {
            "image/png": "[encoded data removed]",
            "text/plain": [
              "<PIL.Image.Image image mode=RGB size=224x224 at 0x7F771F849250>"
            ]
          },
          "metadata": {},
          "execution_count": 106
        }
      ],
      "source": [
        "test_image"
      ]
    },
    {
      "cell_type": "code",
      "execution_count": null,
      "metadata": {
        "id": "O-RyNq9t38SS"
      },
      "outputs": [],
      "source": [
        "## Convert image to array\n",
        "test_image = image.img_to_array(test_image)"
      ]
    },
    {
      "cell_type": "code",
      "execution_count": null,
      "metadata": {
        "id": "J8YHbUPu38SS"
      },
      "outputs": [],
      "source": [
        "## For single prediction change the dimension . \n",
        "\n",
        "test_image=test_image.reshape(1,224,224,3)"
      ]
    },
    {
      "cell_type": "code",
      "execution_count": null,
      "metadata": {
        "id": "mvSPjihG38SS"
      },
      "outputs": [],
      "source": [
        "result = best_model.predict(test_image)"
      ]
    },
    {
      "cell_type": "code",
      "execution_count": null,
      "metadata": {
        "id": "JuRemV8s38SS"
      },
      "outputs": [],
      "source": [
        "result = result.argmax()"
      ]
    },
    {
      "cell_type": "code",
      "execution_count": null,
      "metadata": {
        "colab": {
          "base_uri": "https://localhost:8080/"
        },
        "id": "Fyfxo29u38SS",
        "outputId": "2324db8c-3afb-4b13-95c4-5798b428edbd"
      },
      "outputs": [
        {
          "output_type": "execute_result",
          "data": {
            "text/plain": [
              "8"
            ]
          },
          "metadata": {},
          "execution_count": 111
        }
      ],
      "source": [
        "result"
      ]
    },
    {
      "cell_type": "code",
      "execution_count": null,
      "metadata": {
        "colab": {
          "base_uri": "https://localhost:8080/",
          "height": 35
        },
        "id": "qnQ32MR971Py",
        "outputId": "9063fe57-31c8-46e6-f0b4-9aef04c2d464"
      },
      "outputs": [
        {
          "output_type": "execute_result",
          "data": {
            "application/vnd.google.colaboratory.intrinsic+json": {
              "type": "string"
            },
            "text/plain": [
              "'UK'"
            ]
          },
          "metadata": {},
          "execution_count": 112
        }
      ],
      "source": [
        "labels[result]"
      ]
    },
    {
      "cell_type": "code",
      "source": [
        ""
      ],
      "metadata": {
        "id": "iH4plB5QfOO9"
      },
      "execution_count": null,
      "outputs": []
    }
  ],
  "metadata": {
    "accelerator": "GPU",
    "colab": {
      "collapsed_sections": [],
      "name": "Flag Classification Keras Tuner.ipynb",
      "provenance": []
    },
    "kernelspec": {
      "display_name": "Python 3",
      "language": "python",
      "name": "python3"
    },
    "language_info": {
      "codemirror_mode": {
        "name": "ipython",
        "version": 3
      },
      "file_extension": ".py",
      "mimetype": "text/x-python",
      "name": "python",
      "nbconvert_exporter": "python",
      "pygments_lexer": "ipython3",
      "version": "3.8.8"
    }
  },
  "nbformat": 4,
  "nbformat_minor": 0
}