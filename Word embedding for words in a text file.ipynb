{
 "cells": [
  {
   "cell_type": "markdown",
   "metadata": {},
   "source": [
    "### Word Embedding using Keras\n",
    "##### This code takes as its input sentences and then returns the word embedding form of the words in the sentences. The dimension considered is 50. So every word will be represented as a vector with 50 dimensions"
   ]
  },
  {
   "cell_type": "code",
   "execution_count": 39,
   "metadata": {},
   "outputs": [],
   "source": [
    "### Libraries USed Tensorflow> 2.0  and keras"
   ]
  },
  {
   "cell_type": "code",
   "execution_count": 2,
   "metadata": {},
   "outputs": [
    {
     "data": {
      "text/plain": [
       "'C:\\\\Users\\\\Dell1'"
      ]
     },
     "execution_count": 2,
     "metadata": {},
     "output_type": "execute_result"
    }
   ],
   "source": [
    "import os\n",
    "os.chdir('C:\\\\Users\\Dell1')\n",
    "os.getcwd()"
   ]
  },
  {
   "cell_type": "code",
   "execution_count": 3,
   "metadata": {},
   "outputs": [],
   "source": [
    "import re"
   ]
  },
  {
   "cell_type": "code",
   "execution_count": 4,
   "metadata": {},
   "outputs": [],
   "source": [
    "f = open('w2v.txt','r')"
   ]
  },
  {
   "cell_type": "code",
   "execution_count": 5,
   "metadata": {},
   "outputs": [
    {
     "name": "stdout",
     "output_type": "stream",
     "text": [
      "<class 'list'>\n"
     ]
    }
   ],
   "source": [
    "# Read the entire input file data in a list structure\n",
    "data = f.readlines()\n",
    "#print(data)\n",
    "print(type(data))"
   ]
  },
  {
   "cell_type": "code",
   "execution_count": 6,
   "metadata": {},
   "outputs": [
    {
     "name": "stdout",
     "output_type": "stream",
     "text": [
      "['In linguistics word embeddings were discussed in the research area of distributional semantics. It aims to quantify and categorize semantic similarities between linguistic items based on their distributional properties in large samples of language data. The underlying idea that \"a word is characterized by the company it keeps\" was popularized by Firth.', 'The technique of representing words as vectors has roots in the 1960s with the development of the vector space model for information retrieval. Reducing the number of dimensions using singular value decomposition then led to the introduction of latent semantic analysis in the late 1980s.In 2000 Bengio et al. provided in a series of papers the \"Neural probabilistic language models\" to reduce the high dimensionality of words representations in contexts by \"learning a distributed representation for words\". (Bengio et al, 2003). Word embeddings come in two different styles, one in which words are expressed as vectors of co-occurring words, and another in which words are expressed as vectors of linguistic contexts in which the words occur; these different styles are studied in (Lavelli et al, 2004). Roweis and Saul published in Science how to use \"locally linear embedding\" (LLE) to discover representations of high dimensional data structures. The area developed gradually and really took off after 2010, partly because important advances had been made since then on the quality of vectors and the training speed of the model.', 'There are many branches and many research groups working on word embeddings. In 2013, a team at Google led by Tomas Mikolov created word2vec, a word embedding toolkit which can train vector space models faster than the previous approaches. Most new word embedding techniques rely on a neural network architecture instead of more traditional n-gram models and unsupervised learning.', 'Limitations', 'One of the main limitations of word embeddings (word vector space models in general) is that possible meanings of a word are conflated into a single representation (a single vector in the semantic space). Sense embeddings are a solution to this problem: individual meanings of words are represented as distinct vectors in the space.', 'For biological sequences: BioVectors', 'Word embeddings for n-grams in biological sequences (e.g. DNA, RNA, and Proteins) for bioinformatics applications have been proposed by Asgari and Mofrad. Named bio-vectors (BioVec) to refer to biological sequences in general with protein-vectors (ProtVec) for proteins (amino-acid sequences) and gene-vectors (GeneVec) for gene sequences, this representation can be widely used in applications of deep learning in proteomics and genomics. The results presented by Asgari and Mofrad suggest that BioVectors can characterize biological sequences in terms of biochemical and biophysical interpretations of the underlying patterns.', 'Thought vectors', 'Thought vectors are an extension of word embeddings to entire sentences or even documents. Some researchers hope that these can improve the quality of machine translation.', 'Software', \"Software for training and using word embeddings includes Tomas Mikolov's Word2vec, Stanford University's GloVe, AllenNLP's Elmo,fastText, Gensim, Indra and Deeplearning4j. Principal Component Analysis (PCA) and T-Distributed Stochastic Neighbour Embedding (t-SNE) are both used to reduce the dimensionality of word vector spaces and visualize word embeddings and clusters.\", 'Examples of application', 'For instance, the fastText is also used to calculate word embeddings for text corpora in Sketch Engine that are available online.']\n"
     ]
    }
   ],
   "source": [
    "# remove the new line characters\n",
    "lines=[]\n",
    "for x in data:\n",
    "    #print(x)\n",
    "    pattern = '\\n'\n",
    "    if x!= pattern:\n",
    "        lines.append(re.sub('\\n+','',x))\n",
    "    \n",
    "    \n",
    "print(lines)"
   ]
  },
  {
   "cell_type": "code",
   "execution_count": 7,
   "metadata": {},
   "outputs": [],
   "source": [
    "# remove special characters from the list\n",
    "voc_list = []\n",
    "pattn = '[(,),\\,\\\",0-9]+'\n",
    "for x in lines:\n",
    "    voc_list.append(re.sub(pattn,'',x))\n"
   ]
  },
  {
   "cell_type": "code",
   "execution_count": 8,
   "metadata": {},
   "outputs": [],
   "source": [
    "# Create a list with the individual elements as sentence\n",
    "sent = []\n",
    "for x in voc_list:\n",
    "    data = x.split(\".\")\n",
    "    sent = sent + data"
   ]
  },
  {
   "cell_type": "code",
   "execution_count": 9,
   "metadata": {},
   "outputs": [
    {
     "name": "stdout",
     "output_type": "stream",
     "text": [
      "['In linguistics word embeddings were discussed in the research area of distributional semantics', ' It aims to quantify and categorize semantic similarities between linguistic items based on their distributional properties in large samples of language data', ' The underlying idea that a word is characterized by the company it keeps was popularized by Firth', '', 'The technique of representing words as vectors has roots in the s with the development of the vector space model for information retrieval', ' Reducing the number of dimensions using singular value decomposition then led to the introduction of latent semantic analysis in the late s', 'In  Bengio et al', ' provided in a series of papers the Neural probabilistic language models to reduce the high dimensionality of words representations in contexts by learning a distributed representation for words', ' Bengio et al ', ' Word embeddings come in two different styles one in which words are expressed as vectors of co-occurring words and another in which words are expressed as vectors of linguistic contexts in which the words occur; these different styles are studied in Lavelli et al ', ' Roweis and Saul published in Science how to use locally linear embedding LLE to discover representations of high dimensional data structures', ' The area developed gradually and really took off after  partly because important advances had been made since then on the quality of vectors and the training speed of the model', '', 'There are many branches and many research groups working on word embeddings', ' In  a team at Google led by Tomas Mikolov created wordvec a word embedding toolkit which can train vector space models faster than the previous approaches', ' Most new word embedding techniques rely on a neural network architecture instead of more traditional n-gram models and unsupervised learning', '', 'Limitations', 'One of the main limitations of word embeddings word vector space models in general is that possible meanings of a word are conflated into a single representation a single vector in the semantic space', ' Sense embeddings are a solution to this problem: individual meanings of words are represented as distinct vectors in the space', '', 'For biological sequences: BioVectors', 'Word embeddings for n-grams in biological sequences e', 'g', ' DNA RNA and Proteins for bioinformatics applications have been proposed by Asgari and Mofrad', ' Named bio-vectors BioVec to refer to biological sequences in general with protein-vectors ProtVec for proteins amino-acid sequences and gene-vectors GeneVec for gene sequences this representation can be widely used in applications of deep learning in proteomics and genomics', ' The results presented by Asgari and Mofrad suggest that BioVectors can characterize biological sequences in terms of biochemical and biophysical interpretations of the underlying patterns', '', 'Thought vectors', 'Thought vectors are an extension of word embeddings to entire sentences or even documents', ' Some researchers hope that these can improve the quality of machine translation', '', 'Software', \"Software for training and using word embeddings includes Tomas Mikolov's Wordvec Stanford University's GloVe AllenNLP's ElmofastText Gensim Indra and Deeplearningj\", ' Principal Component Analysis PCA and T-Distributed Stochastic Neighbour Embedding t-SNE are both used to reduce the dimensionality of word vector spaces and visualize word embeddings and clusters', '', 'Examples of application', 'For instance the fastText is also used to calculate word embeddings for text corpora in Sketch Engine that are available online', '']\n"
     ]
    }
   ],
   "source": [
    "print(sent)"
   ]
  },
  {
   "cell_type": "code",
   "execution_count": 10,
   "metadata": {},
   "outputs": [],
   "source": [
    "newlist = [x for x in sent if x !=''] # Remove the stand alone space entries "
   ]
  },
  {
   "cell_type": "code",
   "execution_count": 11,
   "metadata": {},
   "outputs": [
    {
     "name": "stdout",
     "output_type": "stream",
     "text": [
      "['In linguistics word embeddings were discussed in the research area of distributional semantics', ' It aims to quantify and categorize semantic similarities between linguistic items based on their distributional properties in large samples of language data', ' The underlying idea that a word is characterized by the company it keeps was popularized by Firth', 'The technique of representing words as vectors has roots in the s with the development of the vector space model for information retrieval', ' Reducing the number of dimensions using singular value decomposition then led to the introduction of latent semantic analysis in the late s', 'In  Bengio et al', ' provided in a series of papers the Neural probabilistic language models to reduce the high dimensionality of words representations in contexts by learning a distributed representation for words', ' Bengio et al ', ' Word embeddings come in two different styles one in which words are expressed as vectors of co-occurring words and another in which words are expressed as vectors of linguistic contexts in which the words occur; these different styles are studied in Lavelli et al ', ' Roweis and Saul published in Science how to use locally linear embedding LLE to discover representations of high dimensional data structures', ' The area developed gradually and really took off after  partly because important advances had been made since then on the quality of vectors and the training speed of the model', 'There are many branches and many research groups working on word embeddings', ' In  a team at Google led by Tomas Mikolov created wordvec a word embedding toolkit which can train vector space models faster than the previous approaches', ' Most new word embedding techniques rely on a neural network architecture instead of more traditional n-gram models and unsupervised learning', 'Limitations', 'One of the main limitations of word embeddings word vector space models in general is that possible meanings of a word are conflated into a single representation a single vector in the semantic space', ' Sense embeddings are a solution to this problem: individual meanings of words are represented as distinct vectors in the space', 'For biological sequences: BioVectors', 'Word embeddings for n-grams in biological sequences e', 'g', ' DNA RNA and Proteins for bioinformatics applications have been proposed by Asgari and Mofrad', ' Named bio-vectors BioVec to refer to biological sequences in general with protein-vectors ProtVec for proteins amino-acid sequences and gene-vectors GeneVec for gene sequences this representation can be widely used in applications of deep learning in proteomics and genomics', ' The results presented by Asgari and Mofrad suggest that BioVectors can characterize biological sequences in terms of biochemical and biophysical interpretations of the underlying patterns', 'Thought vectors', 'Thought vectors are an extension of word embeddings to entire sentences or even documents', ' Some researchers hope that these can improve the quality of machine translation', 'Software', \"Software for training and using word embeddings includes Tomas Mikolov's Wordvec Stanford University's GloVe AllenNLP's ElmofastText Gensim Indra and Deeplearningj\", ' Principal Component Analysis PCA and T-Distributed Stochastic Neighbour Embedding t-SNE are both used to reduce the dimensionality of word vector spaces and visualize word embeddings and clusters', 'Examples of application', 'For instance the fastText is also used to calculate word embeddings for text corpora in Sketch Engine that are available online']\n"
     ]
    }
   ],
   "source": [
    "print(newlist)"
   ]
  },
  {
   "cell_type": "code",
   "execution_count": 13,
   "metadata": {},
   "outputs": [],
   "source": [
    "##Import one hot library\n",
    "from tensorflow.keras.preprocessing.text import one_hot"
   ]
  },
  {
   "cell_type": "code",
   "execution_count": 14,
   "metadata": {},
   "outputs": [],
   "source": [
    "### Vocabulary size\n",
    "voc_size=30000"
   ]
  },
  {
   "cell_type": "markdown",
   "metadata": {},
   "source": [
    "#### One Hot Representation"
   ]
  },
  {
   "cell_type": "code",
   "execution_count": 15,
   "metadata": {},
   "outputs": [
    {
     "name": "stdout",
     "output_type": "stream",
     "text": [
      "[[9355, 23504, 23557, 27305, 18452, 2499, 9355, 20989, 16103, 327, 19428, 27759, 13259], [4884, 15412, 18670, 16912, 5985, 9043, 8827, 9289, 27232, 23369, 14091, 8366, 9200, 8775, 27759, 13795, 9355, 14699, 25331, 19428, 15168, 17353], [20989, 5443, 25756, 1934, 23393, 23557, 24120, 28270, 1134, 20989, 15067, 4884, 29418, 24915, 26250, 1134, 11560], [20989, 2530, 19428, 2442, 12349, 4573, 12945, 11782, 25310, 9355, 20989, 17489, 8771, 20989, 21976, 19428, 20989, 17028, 29392, 12675, 28535, 514, 21441], [25653, 20989, 2750, 19428, 20411, 7177, 10839, 7867, 5627, 1883, 16314, 18670, 20989, 22859, 19428, 15654, 8827, 1197, 9355, 20989, 28840, 17489], [9355, 17063, 24397, 16625], [21749, 9355, 23393, 16258, 19428, 16178, 20989, 15514, 22449, 15168, 15216, 18670, 21022, 20989, 20907, 24366, 19428, 12349, 12772, 9355, 24160, 1134, 11666, 23393, 12738, 20377, 28535, 12349], [17063, 24397, 16625], [23557, 27305, 4200, 9355, 1360, 14088, 29893, 467, 9355, 15069, 12349, 18674, 14728, 4573, 12945, 19428, 9967, 15962, 12349, 5985, 16895, 9355, 15069, 12349, 18674, 14728, 4573, 12945, 19428, 23369, 24160, 9355, 15069, 20989, 12349, 23272, 10686, 14088, 29893, 18674, 26762, 9355, 23743, 24397, 16625], [25171, 5985, 28292, 23602, 9355, 6320, 2144, 18670, 15744, 4509, 29443, 1356, 27696, 18670, 7523, 12772, 19428, 20907, 23436, 17353, 26720], [20989, 327, 27963, 14913, 5985, 24895, 24494, 2398, 6417, 25977, 15815, 19032, 24777, 17028, 17467, 358, 22871, 1883, 9200, 20989, 28480, 19428, 12945, 5985, 20989, 7857, 12138, 19428, 20989, 12675], [5813, 18674, 20109, 19573, 5985, 20109, 16103, 14164, 5243, 9200, 23557, 27305], [9355, 23393, 2455, 4063, 19488, 16314, 1134, 10803, 15337, 18544, 19498, 23393, 23557, 1356, 19465, 15069, 5367, 612, 17028, 29392, 15216, 5228, 17565, 20989, 17821, 29405], [13732, 15507, 23557, 1356, 12336, 19482, 9200, 23393, 15514, 18877, 671, 20592, 19428, 7619, 12811, 17849, 11425, 15216, 5985, 11897, 11666], [21407], [467, 19428, 20989, 9424, 21407, 19428, 23557, 27305, 23557, 17028, 29392, 15216, 9355, 7073, 24120, 1934, 10503, 27047, 19428, 23393, 23557, 18674, 14877, 17659, 23393, 1682, 20377, 23393, 1682, 17028, 9355, 20989, 8827, 29392], [6802, 27305, 18674, 23393, 24530, 18670, 11777, 4124, 21928, 27047, 19428, 12349, 18674, 2449, 4573, 28942, 12945, 9355, 20989, 29392], [28535, 17579, 40, 10406], [23557, 27305, 28535, 17849, 28896, 9355, 17579, 40, 28582], [1115], [1987, 916, 5985, 3841, 28535, 23170, 3497, 18062, 17467, 22213, 1134, 10635, 5985, 16671], [15171, 12893, 12945, 5074, 18670, 22620, 18670, 17579, 40, 9355, 7073, 8771, 29777, 12945, 23558, 28535, 3841, 16282, 17713, 40, 5985, 29615, 12945, 29332, 28535, 29615, 40, 11777, 20377, 5367, 26769, 8184, 8222, 9355, 3497, 19428, 11492, 11666, 9355, 2327, 5985, 9282], [20989, 29904, 9610, 1134, 10635, 5985, 16671, 28798, 1934, 10406, 5367, 2806, 17579, 40, 9355, 14477, 19428, 20277, 5985, 722, 7932, 19428, 20989, 5443, 10118], [17486, 12945], [17486, 12945, 18674, 18399, 11049, 19428, 23557, 27305, 18670, 7781, 479, 17490, 18467, 8394], [29530, 28705, 7194, 1934, 10686, 5367, 1396, 20989, 28480, 19428, 17385, 17494], [28788], [28788, 28535, 7857, 5985, 7177, 23557, 27305, 11480, 10803, 10478, 19498, 20969, 3462, 26928, 19801, 6541, 1369, 22212, 5985, 15470], [26036, 5658, 1197, 11966, 5985, 3273, 12738, 6632, 6174, 1356, 3273, 24734, 18674, 22906, 8222, 18670, 21022, 20989, 24366, 19428, 23557, 17028, 10246, 5985, 18928, 23557, 27305, 5985, 9349], [5330, 19428, 3002], [28535, 1023, 20989, 9253, 24120, 6626, 8222, 18670, 18801, 23557, 27305, 28535, 16597, 3484, 9355, 21237, 6211, 1934, 18674, 29748, 17131]]\n"
     ]
    }
   ],
   "source": [
    "onehot_repr=[one_hot(words,voc_size)for words in newlist] \n",
    "print(onehot_repr)"
   ]
  },
  {
   "cell_type": "markdown",
   "metadata": {},
   "source": [
    "### Word Embedding Represntation"
   ]
  },
  {
   "cell_type": "code",
   "execution_count": 16,
   "metadata": {},
   "outputs": [],
   "source": [
    "from tensorflow.keras.layers import Embedding\n",
    "from tensorflow.keras.preprocessing.sequence import pad_sequences\n",
    "from tensorflow.keras.models import Sequential"
   ]
  },
  {
   "cell_type": "code",
   "execution_count": 17,
   "metadata": {},
   "outputs": [],
   "source": [
    "import numpy as np"
   ]
  },
  {
   "cell_type": "code",
   "execution_count": 19,
   "metadata": {},
   "outputs": [
    {
     "name": "stdout",
     "output_type": "stream",
     "text": [
      "[    0     0     0     0     0     0     0     0     0     0     0     0\n",
      "     0     0     0     0     0     0     0     0     0     0     0     0\n",
      "     0     0     0     0     0 28535  1023 20989  9253 24120  6626  8222\n",
      " 18670 18801 23557 27305 28535 16597  3484  9355 21237  6211  1934 18674\n",
      " 29748 17131]\n"
     ]
    }
   ],
   "source": [
    "sent_length=50 # max number of words for each sentence\n",
    "embedded_docs=pad_sequences(onehot_repr,padding='pre',maxlen=sent_length)\n",
    "print(embedded_docs[30]) # Check the "
   ]
  },
  {
   "cell_type": "code",
   "execution_count": 20,
   "metadata": {},
   "outputs": [],
   "source": [
    "dim=50  # the nuber of dimensions to be used for every word\n"
   ]
  },
  {
   "cell_type": "code",
   "execution_count": 21,
   "metadata": {},
   "outputs": [],
   "source": [
    "# Create the model\n",
    "model=Sequential()\n",
    "model.add(Embedding(voc_size,dim,input_length=sent_length))\n",
    "model.compile('adam','mse')"
   ]
  },
  {
   "cell_type": "code",
   "execution_count": 22,
   "metadata": {},
   "outputs": [
    {
     "name": "stdout",
     "output_type": "stream",
     "text": [
      "Model: \"sequential\"\n",
      "_________________________________________________________________\n",
      " Layer (type)                Output Shape              Param #   \n",
      "=================================================================\n",
      " embedding (Embedding)       (None, 50, 50)            1500000   \n",
      "                                                                 \n",
      "=================================================================\n",
      "Total params: 1,500,000\n",
      "Trainable params: 1,500,000\n",
      "Non-trainable params: 0\n",
      "_________________________________________________________________\n"
     ]
    }
   ],
   "source": [
    "model.summary()"
   ]
  },
  {
   "cell_type": "code",
   "execution_count": 23,
   "metadata": {},
   "outputs": [
    {
     "name": "stdout",
     "output_type": "stream",
     "text": [
      "[[[-0.03217027 -0.03313506  0.00438671 ... -0.04655161 -0.02755113\n",
      "   -0.02592794]\n",
      "  [-0.03217027 -0.03313506  0.00438671 ... -0.04655161 -0.02755113\n",
      "   -0.02592794]\n",
      "  [-0.03217027 -0.03313506  0.00438671 ... -0.04655161 -0.02755113\n",
      "   -0.02592794]\n",
      "  ...\n",
      "  [ 0.03103671  0.02795393  0.01721213 ...  0.04876726 -0.01866817\n",
      "    0.04864352]\n",
      "  [-0.04293236  0.04471053 -0.00473889 ... -0.01245784  0.02700616\n",
      "   -0.01512766]\n",
      "  [ 0.01450329  0.01756796  0.0498737  ... -0.01824175  0.00956162\n",
      "    0.00459041]]\n",
      "\n",
      " [[-0.03217027 -0.03313506  0.00438671 ... -0.04655161 -0.02755113\n",
      "   -0.02592794]\n",
      "  [-0.03217027 -0.03313506  0.00438671 ... -0.04655161 -0.02755113\n",
      "   -0.02592794]\n",
      "  [-0.03217027 -0.03313506  0.00438671 ... -0.04655161 -0.02755113\n",
      "   -0.02592794]\n",
      "  ...\n",
      "  [ 0.03103671  0.02795393  0.01721213 ...  0.04876726 -0.01866817\n",
      "    0.04864352]\n",
      "  [ 0.00173328  0.02550001  0.00883741 ... -0.04739682  0.02236599\n",
      "   -0.01744061]\n",
      "  [ 0.04833027  0.00330994  0.02097258 ... -0.04678464  0.02934159\n",
      "   -0.00157022]]\n",
      "\n",
      " [[-0.03217027 -0.03313506  0.00438671 ... -0.04655161 -0.02755113\n",
      "   -0.02592794]\n",
      "  [-0.03217027 -0.03313506  0.00438671 ... -0.04655161 -0.02755113\n",
      "   -0.02592794]\n",
      "  [-0.03217027 -0.03313506  0.00438671 ... -0.04655161 -0.02755113\n",
      "   -0.02592794]\n",
      "  ...\n",
      "  [-0.01282617 -0.03808735  0.00369652 ...  0.02755782 -0.01545851\n",
      "   -0.04385984]\n",
      "  [ 0.00382559  0.02065256  0.01034717 ...  0.04911205  0.03450719\n",
      "    0.01378521]\n",
      "  [ 0.00558354  0.00732233 -0.00345566 ... -0.04007044  0.03488315\n",
      "   -0.04506604]]\n",
      "\n",
      " ...\n",
      "\n",
      " [[-0.03217027 -0.03313506  0.00438671 ... -0.04655161 -0.02755113\n",
      "   -0.02592794]\n",
      "  [-0.03217027 -0.03313506  0.00438671 ... -0.04655161 -0.02755113\n",
      "   -0.02592794]\n",
      "  [-0.03217027 -0.03313506  0.00438671 ... -0.04655161 -0.02755113\n",
      "   -0.02592794]\n",
      "  ...\n",
      "  [ 0.02106779 -0.01404581 -0.04646214 ...  0.02365452  0.04631145\n",
      "    0.0112321 ]\n",
      "  [ 0.02391345  0.00308163  0.02507097 ... -0.04081954  0.02537935\n",
      "   -0.00066379]\n",
      "  [-0.01664012 -0.01404198 -0.04928043 ... -0.03997542 -0.03560315\n",
      "   -0.03920196]]\n",
      "\n",
      " [[-0.03217027 -0.03313506  0.00438671 ... -0.04655161 -0.02755113\n",
      "   -0.02592794]\n",
      "  [-0.03217027 -0.03313506  0.00438671 ... -0.04655161 -0.02755113\n",
      "   -0.02592794]\n",
      "  [-0.03217027 -0.03313506  0.00438671 ... -0.04655161 -0.02755113\n",
      "   -0.02592794]\n",
      "  ...\n",
      "  [ 0.02482306 -0.02408884 -0.01160569 ... -0.02788787 -0.03771079\n",
      "    0.00951932]\n",
      "  [ 0.03103671  0.02795393  0.01721213 ...  0.04876726 -0.01866817\n",
      "    0.04864352]\n",
      "  [-0.04703928  0.0045323  -0.01707312 ... -0.0086912   0.03102428\n",
      "    0.04300274]]\n",
      "\n",
      " [[-0.03217027 -0.03313506  0.00438671 ... -0.04655161 -0.02755113\n",
      "   -0.02592794]\n",
      "  [-0.03217027 -0.03313506  0.00438671 ... -0.04655161 -0.02755113\n",
      "   -0.02592794]\n",
      "  [-0.03217027 -0.03313506  0.00438671 ... -0.04655161 -0.02755113\n",
      "   -0.02592794]\n",
      "  ...\n",
      "  [-0.03133351 -0.01645069  0.02699641 ...  0.02420348  0.00182173\n",
      "   -0.00136166]\n",
      "  [ 0.01930794  0.00906881 -0.00084778 ... -0.01619165 -0.04651134\n",
      "   -0.0176427 ]\n",
      "  [ 0.04873825 -0.01879135 -0.01398696 ...  0.02674279  0.04760912\n",
      "    0.01558571]]]\n"
     ]
    }
   ],
   "source": [
    "print(model.predict(embedded_docs))"
   ]
  },
  {
   "cell_type": "code",
   "execution_count": 25,
   "metadata": {},
   "outputs": [
    {
     "data": {
      "text/plain": [
       "array([    0,     0,     0,     0,     0,     0,     0,     0,     0,\n",
       "           0,     0,     0,     0,     0,     0,     0,     0,     0,\n",
       "           0,     0,     0,     0,     0,     0,     0,     0,     0,\n",
       "           0,     0,     0,     0,     0,     0,     0,     0,     0,\n",
       "           0,  9355, 23504, 23557, 27305, 18452,  2499,  9355, 20989,\n",
       "       16103,   327, 19428, 27759, 13259])"
      ]
     },
     "execution_count": 25,
     "metadata": {},
     "output_type": "execute_result"
    }
   ],
   "source": [
    "embedded_docs[0] # one hot representation of 1st sentence in the file"
   ]
  },
  {
   "cell_type": "code",
   "execution_count": 26,
   "metadata": {},
   "outputs": [
    {
     "name": "stdout",
     "output_type": "stream",
     "text": [
      "[[-0.03217027 -0.03313506  0.00438671 ... -0.04655161 -0.02755113\n",
      "  -0.02592794]\n",
      " [-0.03217027 -0.03313506  0.00438671 ... -0.04655161 -0.02755113\n",
      "  -0.02592794]\n",
      " [-0.03217027 -0.03313506  0.00438671 ... -0.04655161 -0.02755113\n",
      "  -0.02592794]\n",
      " ...\n",
      " [ 0.03103671  0.02795393  0.01721213 ...  0.04876726 -0.01866817\n",
      "   0.04864352]\n",
      " [-0.04293236  0.04471053 -0.00473889 ... -0.01245784  0.02700616\n",
      "  -0.01512766]\n",
      " [ 0.01450329  0.01756796  0.0498737  ... -0.01824175  0.00956162\n",
      "   0.00459041]]\n"
     ]
    }
   ],
   "source": [
    "print(model.predict(embedded_docs)[0]) # word embedding of the 1st line in the file"
   ]
  },
  {
   "cell_type": "code",
   "execution_count": 85,
   "metadata": {},
   "outputs": [
    {
     "name": "stdout",
     "output_type": "stream",
     "text": [
      "[ 0.03114427 -0.01116689 -0.0352432   0.04796735 -0.00854754  0.01065399\n",
      " -0.01978968  0.04327266  0.04577306 -0.00254823  0.01871175 -0.00114787\n",
      " -0.03936322  0.00537255 -0.04265846 -0.04424108 -0.02746838  0.04835248\n",
      "  0.01115031 -0.04126612 -0.03734769  0.03793288 -0.00936653 -0.03119999\n",
      " -0.00236583 -0.00932973  0.03479507 -0.01072948 -0.00359939 -0.03634455\n",
      " -0.04317402 -0.01142102 -0.0438641   0.01236091  0.02006987 -0.00944043\n",
      " -0.00311746  0.01058885  0.00536835  0.02792293 -0.04377749  0.02554831\n",
      " -0.02193763  0.03118397 -0.0449764   0.02722955  0.02690829  0.01529599\n",
      " -0.01799641 -0.01976432]\n"
     ]
    }
   ],
   "source": [
    "print(model.predict(embedded_docs)[0][1]) # word embedding form of the 2nd word in the list - Linguistics"
   ]
  },
  {
   "cell_type": "code",
   "execution_count": null,
   "metadata": {},
   "outputs": [],
   "source": []
  }
 ],
 "metadata": {
  "kernelspec": {
   "display_name": "Python 3",
   "language": "python",
   "name": "python3"
  },
  "language_info": {
   "codemirror_mode": {
    "name": "ipython",
    "version": 3
   },
   "file_extension": ".py",
   "mimetype": "text/x-python",
   "name": "python",
   "nbconvert_exporter": "python",
   "pygments_lexer": "ipython3",
   "version": "3.8.8"
  }
 },
 "nbformat": 4,
 "nbformat_minor": 2
}
